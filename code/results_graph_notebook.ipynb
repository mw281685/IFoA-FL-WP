{
 "cells": [
  {
   "attachments": {},
   "cell_type": "markdown",
   "metadata": {},
   "source": [
    "# Import Libraries and Constants"
   ]
  },
  {
   "cell_type": "code",
   "execution_count": 1,
   "metadata": {},
   "outputs": [],
   "source": [
    "%matplotlib inline\n",
    "import torch as th\n",
    "import torch.nn as nn \n",
    "import pandas as pd\n",
    "import numpy as np\n",
    "from sklearn.metrics import mean_squared_error, r2_score, mean_poisson_deviance, d2_tweedie_score, make_scorer, auc\n",
    "import seaborn as sns\n",
    "import matplotlib.pyplot as plt\n",
    "import matplotlib.ticker as mtick\n",
    "from skorch import NeuralNetRegressor, NeuralNet, callbacks\n",
    "import utils\n",
    "import architecture\n",
    "import run_config\n",
    "from pandas._libs.lib import is_integer"
   ]
  },
  {
   "cell_type": "code",
   "execution_count": 2,
   "metadata": {},
   "outputs": [],
   "source": [
    "FL_PATH = '../ag_0/fl_model_Final_10ag_350rnd_10ep_0qt_0SMPCn.pt'"
   ]
  },
  {
   "cell_type": "code",
   "execution_count": 3,
   "metadata": {},
   "outputs": [],
   "source": [
    "FL_NUM_UNITS_1 = 15"
   ]
  },
  {
   "cell_type": "code",
   "execution_count": 4,
   "metadata": {},
   "outputs": [],
   "source": [
    "FL_NUM_UNITS_2 = 20"
   ]
  },
  {
   "cell_type": "code",
   "execution_count": 5,
   "metadata": {},
   "outputs": [],
   "source": [
    "#NUM_FEATURES = run_config.model_architecture[\"num_features\"]\n",
    "NUM_FEATURES = 39"
   ]
  },
  {
   "cell_type": "code",
   "execution_count": 6,
   "metadata": {},
   "outputs": [],
   "source": [
    "NUM_AGENTS = 10"
   ]
  },
  {
   "cell_type": "code",
   "execution_count": 7,
   "metadata": {},
   "outputs": [],
   "source": [
    "all_results_df = pd.read_csv('../results/all_results.csv')\n",
    "top_results_df = all_results_df.loc[all_results_df['rank_test_score']==1]"
   ]
  },
  {
   "attachments": {},
   "cell_type": "markdown",
   "metadata": {},
   "source": [
    "# Load Models"
   ]
  },
  {
   "cell_type": "code",
   "execution_count": 8,
   "metadata": {},
   "outputs": [],
   "source": [
    "agent_model_dictionary = {}\n",
    "for agents in range(NUM_AGENTS):\n",
    "    agent_model_dictionary[\"loaded_agent_{0}_model\".format(agents)] = eval('utils.load_model(agent='+str(agents)+')')"
   ]
  },
  {
   "attachments": {},
   "cell_type": "markdown",
   "metadata": {},
   "source": [
    "## Load Federated Model"
   ]
  },
  {
   "cell_type": "code",
   "execution_count": 9,
   "metadata": {},
   "outputs": [
    {
     "ename": "RuntimeError",
     "evalue": "Error(s) in loading state_dict for MultipleRegression:\n\tsize mismatch for layer_1.weight: copying a param with shape torch.Size([15, 39]) from checkpoint, the shape in current model is torch.Size([10, 39]).\n\tsize mismatch for layer_1.bias: copying a param with shape torch.Size([15]) from checkpoint, the shape in current model is torch.Size([10]).\n\tsize mismatch for layer_2.weight: copying a param with shape torch.Size([20, 15]) from checkpoint, the shape in current model is torch.Size([15, 10]).\n\tsize mismatch for layer_2.bias: copying a param with shape torch.Size([20]) from checkpoint, the shape in current model is torch.Size([15]).\n\tsize mismatch for layer_out.weight: copying a param with shape torch.Size([1, 20]) from checkpoint, the shape in current model is torch.Size([1, 15]).",
     "output_type": "error",
     "traceback": [
      "\u001b[0;31m---------------------------------------------------------------------------\u001b[0m",
      "\u001b[0;31mRuntimeError\u001b[0m                              Traceback (most recent call last)",
      "Cell \u001b[0;32mIn[9], line 2\u001b[0m\n\u001b[1;32m      1\u001b[0m fl_model \u001b[39m=\u001b[39m architecture\u001b[39m.\u001b[39mMultipleRegression(num_features\u001b[39m=\u001b[39mNUM_FEATURES, num_units_1\u001b[39m=\u001b[39mFL_NUM_UNITS_1, num_units_2\u001b[39m=\u001b[39mFL_NUM_UNITS_2)\n\u001b[0;32m----> 2\u001b[0m fl_model\u001b[39m.\u001b[39;49mload_state_dict(th\u001b[39m.\u001b[39;49mload(FL_PATH))\n\u001b[1;32m      3\u001b[0m fl_model\u001b[39m.\u001b[39meval()\n",
      "File \u001b[0;32m~/Library/Caches/pypoetry/virtualenvs/flw-3agentsdemo-O3axsXRA-py3.8/lib/python3.8/site-packages/torch/nn/modules/module.py:1667\u001b[0m, in \u001b[0;36mModule.load_state_dict\u001b[0;34m(self, state_dict, strict)\u001b[0m\n\u001b[1;32m   1662\u001b[0m         error_msgs\u001b[39m.\u001b[39minsert(\n\u001b[1;32m   1663\u001b[0m             \u001b[39m0\u001b[39m, \u001b[39m'\u001b[39m\u001b[39mMissing key(s) in state_dict: \u001b[39m\u001b[39m{}\u001b[39;00m\u001b[39m. \u001b[39m\u001b[39m'\u001b[39m\u001b[39m.\u001b[39mformat(\n\u001b[1;32m   1664\u001b[0m                 \u001b[39m'\u001b[39m\u001b[39m, \u001b[39m\u001b[39m'\u001b[39m\u001b[39m.\u001b[39mjoin(\u001b[39m'\u001b[39m\u001b[39m\"\u001b[39m\u001b[39m{}\u001b[39;00m\u001b[39m\"\u001b[39m\u001b[39m'\u001b[39m\u001b[39m.\u001b[39mformat(k) \u001b[39mfor\u001b[39;00m k \u001b[39min\u001b[39;00m missing_keys)))\n\u001b[1;32m   1666\u001b[0m \u001b[39mif\u001b[39;00m \u001b[39mlen\u001b[39m(error_msgs) \u001b[39m>\u001b[39m \u001b[39m0\u001b[39m:\n\u001b[0;32m-> 1667\u001b[0m     \u001b[39mraise\u001b[39;00m \u001b[39mRuntimeError\u001b[39;00m(\u001b[39m'\u001b[39m\u001b[39mError(s) in loading state_dict for \u001b[39m\u001b[39m{}\u001b[39;00m\u001b[39m:\u001b[39m\u001b[39m\\n\u001b[39;00m\u001b[39m\\t\u001b[39;00m\u001b[39m{}\u001b[39;00m\u001b[39m'\u001b[39m\u001b[39m.\u001b[39mformat(\n\u001b[1;32m   1668\u001b[0m                        \u001b[39mself\u001b[39m\u001b[39m.\u001b[39m\u001b[39m__class__\u001b[39m\u001b[39m.\u001b[39m\u001b[39m__name__\u001b[39m, \u001b[39m\"\u001b[39m\u001b[39m\\n\u001b[39;00m\u001b[39m\\t\u001b[39;00m\u001b[39m\"\u001b[39m\u001b[39m.\u001b[39mjoin(error_msgs)))\n\u001b[1;32m   1669\u001b[0m \u001b[39mreturn\u001b[39;00m _IncompatibleKeys(missing_keys, unexpected_keys)\n",
      "\u001b[0;31mRuntimeError\u001b[0m: Error(s) in loading state_dict for MultipleRegression:\n\tsize mismatch for layer_1.weight: copying a param with shape torch.Size([15, 39]) from checkpoint, the shape in current model is torch.Size([10, 39]).\n\tsize mismatch for layer_1.bias: copying a param with shape torch.Size([15]) from checkpoint, the shape in current model is torch.Size([10]).\n\tsize mismatch for layer_2.weight: copying a param with shape torch.Size([20, 15]) from checkpoint, the shape in current model is torch.Size([15, 10]).\n\tsize mismatch for layer_2.bias: copying a param with shape torch.Size([20]) from checkpoint, the shape in current model is torch.Size([15]).\n\tsize mismatch for layer_out.weight: copying a param with shape torch.Size([1, 20]) from checkpoint, the shape in current model is torch.Size([1, 15])."
     ]
    }
   ],
   "source": [
    "fl_model = architecture.MultipleRegression(num_features=NUM_FEATURES, num_units_1=FL_NUM_UNITS_1, num_units_2=FL_NUM_UNITS_2)\n",
    "fl_model.load_state_dict(th.load(FL_PATH))\n",
    "fl_model.eval()"
   ]
  },
  {
   "attachments": {},
   "cell_type": "markdown",
   "metadata": {},
   "source": [
    "Again can lookup each agent's model"
   ]
  },
  {
   "cell_type": "code",
   "execution_count": null,
   "metadata": {},
   "outputs": [],
   "source": [
    "agent_model_dictionary['loaded_agent_0_model']"
   ]
  },
  {
   "attachments": {},
   "cell_type": "markdown",
   "metadata": {},
   "source": [
    "## Load global model"
   ]
  },
  {
   "cell_type": "code",
   "execution_count": null,
   "metadata": {},
   "outputs": [],
   "source": [
    "loaded_agent_global_model = utils.load_model(agent=-1)"
   ]
  },
  {
   "attachments": {},
   "cell_type": "markdown",
   "metadata": {},
   "source": [
    "# Load Test Data and Functions"
   ]
  },
  {
   "cell_type": "code",
   "execution_count": null,
   "metadata": {},
   "outputs": [],
   "source": [
    "X_test, y_test, df_test = utils.create_test_data()"
   ]
  },
  {
   "attachments": {},
   "cell_type": "markdown",
   "metadata": {},
   "source": [
    "# One Way AvE Graphs"
   ]
  },
  {
   "attachments": {},
   "cell_type": "markdown",
   "metadata": {},
   "source": [
    "Create dataset to graph"
   ]
  },
  {
   "cell_type": "code",
   "execution_count": null,
   "metadata": {},
   "outputs": [],
   "source": [
    "df_test_pred = utils.create_df_test_pred(df_test, X_test, NUM_AGENTS, loaded_agent_global_model, fl_model, agent_model_dictionary)"
   ]
  },
  {
   "attachments": {},
   "cell_type": "markdown",
   "metadata": {},
   "source": [
    "Define agents to graph"
   ]
  },
  {
   "cell_type": "code",
   "execution_count": null,
   "metadata": {},
   "outputs": [],
   "source": [
    "agents_to_graph_list = [9]"
   ]
  },
  {
   "cell_type": "code",
   "execution_count": null,
   "metadata": {},
   "outputs": [],
   "source": [
    "for i in ['Area', 'VehPower', 'VehAge', 'DrivAge', 'BonusMalus', 'VehGas', 'Density', 'VehBrand_number', 'Region_number']:\n",
    "    utils.one_way_graph_comparison(i, df_test_pred, agents_to_graph_list, NUM_AGENTS)"
   ]
  },
  {
   "attachments": {},
   "cell_type": "markdown",
   "metadata": {},
   "source": [
    "# Lift Charts"
   ]
  },
  {
   "cell_type": "code",
   "execution_count": null,
   "metadata": {},
   "outputs": [],
   "source": [
    "utils.double_lift_rebase(df_test_pred, 'fl', 'global')"
   ]
  },
  {
   "cell_type": "code",
   "execution_count": null,
   "metadata": {},
   "outputs": [],
   "source": [
    "utils.double_lift_rebase(df_test_pred, 'fl', 'agent_9')"
   ]
  },
  {
   "cell_type": "code",
   "execution_count": null,
   "metadata": {},
   "outputs": [],
   "source": [
    "utils.double_lift_rebase(df_test_pred, 'global', 'agent_9')"
   ]
  },
  {
   "attachments": {},
   "cell_type": "markdown",
   "metadata": {},
   "source": [
    "# Gini"
   ]
  },
  {
   "cell_type": "code",
   "execution_count": null,
   "metadata": {},
   "outputs": [],
   "source": [
    "fig, ax = plt.subplots(figsize=(15, 10))\n",
    "\n",
    "cum_exposure, cum_claims = utils.lorenz_curve(\n",
    "    df_test_pred['ClaimNb'], df_test_pred['ClaimNb_pred'], df_test_pred[\"Exposure\"]\n",
    ")\n",
    "gini = 1 - 2 * auc(cum_exposure, cum_claims)\n",
    "label = \"(Global Model Gini: {:.4f})\".format(gini)\n",
    "ax.plot(cum_exposure, cum_claims, linestyle=\"-\", label=label)\n",
    "\n",
    "cum_exposure, cum_claims = utils.lorenz_curve(\n",
    "    df_test_pred['ClaimNb'], df_test_pred['ClaimNb_fl_pred'], df_test_pred[\"Exposure\"]\n",
    ")\n",
    "gini = 1 - 2 * auc(cum_exposure, cum_claims)\n",
    "label = \"(FL Model Gini: {:.4f})\".format(gini)\n",
    "ax.plot(cum_exposure, cum_claims, linestyle=\"-\", label=label)\n",
    "\n",
    "for agents in agents_to_graph_list:\n",
    "    cum_exposure, cum_claims = utils.lorenz_curve(\n",
    "        df_test_pred['ClaimNb'], df_test_pred['ClaimNb_agent_'+str(agents)+'_pred'], df_test_pred[\"Exposure\"]\n",
    "    )\n",
    "    gini = 1 - 2 * auc(cum_exposure, cum_claims)\n",
    "    label = '(Agent {} Gini: {:.4f})'.format(agents, gini)\n",
    "    plt.plot(cum_exposure, cum_claims, linestyle=\"dotted\", label=label)\n",
    "\n",
    "# Oracle model: y_pred == y_test\n",
    "cum_exposure, cum_claims = utils.lorenz_curve(\n",
    "    df_test_pred['ClaimNb'], df_test_pred['ClaimNb'], df_test_pred[\"Exposure\"]\n",
    ")\n",
    "gini = 1 - 2 * auc(cum_exposure, cum_claims)\n",
    "label = \"Oracle (Gini: {:.4f})\".format(gini)\n",
    "ax.plot(cum_exposure, cum_claims, linestyle=\"-.\", color=\"gray\", label=label)\n",
    "\n",
    "# Random Baseline\n",
    "ax.plot([0, 1], [0, 1], linestyle=\"--\", color=\"black\", label=\"Random baseline\")\n",
    "ax.set(\n",
    "    title=\"Lorenz Curves by Model\",\n",
    "    xlabel=\"Cumulative proportion of exposure (from safest to riskiest)\",\n",
    "    ylabel=\"Cumulative proportion of claims\",\n",
    ")\n",
    "\n",
    "plt.grid()\n",
    "ax.legend(loc=\"upper left\")\n",
    "\n",
    "#plt.savefig(f'../ag_{ag}/' + 'lift_chart')"
   ]
  },
  {
   "attachments": {},
   "cell_type": "markdown",
   "metadata": {},
   "source": [
    "# Metric comparison"
   ]
  },
  {
   "cell_type": "code",
   "execution_count": null,
   "metadata": {},
   "outputs": [],
   "source": [
    "y_fl_pred = df_test['ClaimNb_fl_pred']"
   ]
  },
  {
   "cell_type": "code",
   "execution_count": null,
   "metadata": {},
   "outputs": [],
   "source": [
    "fl_weighted_pde = d2_tweedie_score(y_test, y_fl_pred, sample_weight=X_test[:, 0], power=1)\n",
    "fl_weighted_pde"
   ]
  },
  {
   "cell_type": "code",
   "execution_count": null,
   "metadata": {},
   "outputs": [],
   "source": [
    "weighted_pde_df = top_results_df[['agent', 'test_weighted_pde']]\n",
    "# Add in FL result\n",
    "weighted_pde_df.loc[151] = [-2, d2_tweedie_score(y_test, y_fl_pred, sample_weight=X_test[:, 0], power=1)]\n",
    "weighted_pde_df['fl_relative_increase'] = fl_weighted_pde/weighted_pde_df['test_weighted_pde'] - 1\n",
    "# Rename\n",
    "weighted_pde_df['model'] = 'Agent'+' '+weighted_pde_df['agent'].astype(int).apply(str)\n",
    "weighted_pde_df['model'] = weighted_pde_df['model'].str.replace('Agent -1','Global Model')\n",
    "weighted_pde_df['model'] = weighted_pde_df['model'].str.replace('Agent -2','Federated Model')\n",
    "weighted_pde_df"
   ]
  },
  {
   "cell_type": "code",
   "execution_count": null,
   "metadata": {},
   "outputs": [],
   "source": [
    "fig, ax = plt.subplots(figsize=(12,10))\n",
    "\n",
    "sns.set_style('white')\n",
    "\n",
    "ax=sns.barplot(y='model', \n",
    "               x='test_weighted_pde',\n",
    "               data=weighted_pde_df.iloc[0:,:].sort_values(by=['test_weighted_pde'], ascending = False),\n",
    "               orient='h',\n",
    "               color='blue',\n",
    "               )\n",
    "plt.title('Model Test Performance', fontsize=25)\n",
    "\n",
    "plt.xticks(fontsize=10)\n",
    "plt.yticks(fontsize=10)\n",
    "plt.xlabel('Test (Weighted) % of Poisson Deviance Explained', fontsize=10)\n",
    "plt.ylabel('Model', fontsize=10)\n",
    "ax.xaxis.set_major_formatter(mtick.PercentFormatter(1))\n",
    "#ax.axvline(global_weighted_pde, ls='--')\n",
    "#ax.annotate('Global Model Test Performance', xy=(global_weighted_pde, -0.5), horizontalalignment='center', weight='semibold', size='medium')\n",
    "for i in range(12):\n",
    "    ax.text(round(weighted_pde_df.sort_values(by=['test_weighted_pde'], ascending=False).reset_index(drop=True).iloc[0+i:1+i,1],4).tolist()[0]+0.0002, \n",
    "            i, \n",
    "            '{:.2%}'.format(round(weighted_pde_df.sort_values(by=['test_weighted_pde'], ascending=False).reset_index(drop=True).iloc[0+i:1+i,1],4).tolist()[0]),\n",
    "            verticalalignment='center',\n",
    "            fontdict=(dict(fontsize=10)))\n",
    "ax.grid(True)\n",
    "plt.show()"
   ]
  },
  {
   "cell_type": "code",
   "execution_count": null,
   "metadata": {},
   "outputs": [],
   "source": [
    "weighted_pde_df_box_plot = weighted_pde_df[['model', 'test_weighted_pde']].loc[(weighted_pde_df['model']!='Global Model') & (weighted_pde_df['model']!='Federated Model')]\n",
    "weighted_pde_df_box_plot = weighted_pde_df_box_plot.rename(columns={\"test_weighted_pde\": \"Local Agents\"})\n",
    "weighted_pde_df_box_plot['Federated Model'] = max(weighted_pde_df['test_weighted_pde'].loc[weighted_pde_df['model']=='Federated Model'])\n",
    "weighted_pde_df_box_plot['Global Model'] = max(weighted_pde_df['test_weighted_pde'].loc[weighted_pde_df['model']=='Global Model'])\n",
    "weighted_pde_df_box_plot"
   ]
  },
  {
   "cell_type": "code",
   "execution_count": null,
   "metadata": {},
   "outputs": [],
   "source": [
    "ax = weighted_pde_df_box_plot[['Local Agents']].plot.box(\n",
    "                                    #vert=False,\n",
    "                                    #patch_artist=True,\n",
    "                                    #whis=10\n",
    "                                    medianprops = dict(linestyle='solid', linewidth=1, color='white'),\n",
    "                                    boxprops=dict(color='green'),\n",
    "                                    whiskerprops=dict(color='green'),\n",
    "                                    flierprops=dict(color='green'),\n",
    "                                    capprops=dict(color='green')\n",
    "                                    )\n",
    "ax.set_title(\"Local Agents Model Test Performance\", fontsize=20)\n",
    "ax.set_ylabel('(Weighted) % of Poisson Deviance Explained', fontsize=15)\n",
    "ax.yaxis.grid(True)\n",
    "ax.xaxis.grid(True)\n",
    "ax.set_ylim(bottom=0.025,top=0.05)\n",
    "ax.yaxis.set_major_formatter(mtick.PercentFormatter(xmax=1))\n",
    "ax.figure.tight_layout()\n",
    "fig = plt.gcf()\n",
    "fig.set_size_inches(10, 10)\n",
    "#plt.xticks(fontsize=15)\n",
    "ax.set_xticks([])\n",
    "plt.yticks(fontsize=12)\n",
    "graph_marker='x'\n",
    "plt.scatter(1, \n",
    "            max(weighted_pde_df['test_weighted_pde'].loc[weighted_pde_df['model']=='Global Model'])\n",
    "            , marker=graph_marker, \n",
    "            s=1000, \n",
    "            #facecolors='y', \n",
    "            #edgecolors='b'\n",
    "            )\n",
    "plt.scatter(1, \n",
    "            weighted_pde_df_box_plot['Local Agents'].median(),\n",
    "            marker=graph_marker, \n",
    "            s=1000, \n",
    "            facecolors='green', \n",
    "            edgecolors='green'\n",
    "            )\n",
    "\n",
    "ax.text(1.015,\n",
    "        weighted_pde_df['test_weighted_pde'].loc[weighted_pde_df['model']=='Global Model']+0.000075, \n",
    "       'Global Model Test Performance',\n",
    "        verticalalignment='center',\n",
    "        fontdict=(dict(fontsize=12))\n",
    "        )\n",
    "\n",
    "plt.show()\n"
   ]
  },
  {
   "cell_type": "code",
   "execution_count": null,
   "metadata": {},
   "outputs": [],
   "source": [
    "ax = weighted_pde_df_box_plot[['Global Model', 'Federated Model', 'Local Agents']].plot.box(\n",
    "                                    #vert=False,\n",
    "                                    #patch_artist=True,\n",
    "                                    #whis=10\n",
    "                                    medianprops = dict(linestyle='solid', linewidth=1, color='white'),\n",
    "                                    boxprops=dict(color='green'),\n",
    "                                    whiskerprops=dict(color='green'),\n",
    "                                    flierprops=dict(color='green'),\n",
    "                                    capprops=dict(color='green')\n",
    "                                    )\n",
    "ax.set_title(\"Model Test Performance\", fontsize=20)\n",
    "ax.set_ylabel('(Weighted) % of Poisson Deviance Explained', fontsize=15)\n",
    "ax.yaxis.grid(True)\n",
    "ax.xaxis.grid(True)\n",
    "ax.set_ylim(bottom=0.025,top=0.055)\n",
    "ax.yaxis.set_major_formatter(mtick.PercentFormatter(xmax=1))\n",
    "ax.figure.tight_layout()\n",
    "fig = plt.gcf()\n",
    "fig.set_size_inches(10, 10)\n",
    "plt.xticks(fontsize=15)\n",
    "plt.yticks(fontsize=12)\n",
    "graph_marker='x'\n",
    "plt.scatter(1, \n",
    "            max(weighted_pde_df['test_weighted_pde'].loc[weighted_pde_df['model']=='Global Model'])\n",
    "            , marker=graph_marker, \n",
    "            s=1000, \n",
    "            #facecolors='y', \n",
    "            #edgecolors='b'\n",
    "            )\n",
    "plt.scatter(2, \n",
    "            max(weighted_pde_df['test_weighted_pde'].loc[weighted_pde_df['model']=='Federated Model'])\n",
    "            , marker=graph_marker, \n",
    "            s=1000, \n",
    "            #facecolors='y', \n",
    "            #edgecolors='b'\n",
    "            )\n",
    "plt.scatter(3, \n",
    "            weighted_pde_df_box_plot['Local Agents'].median(),\n",
    "            marker=graph_marker, \n",
    "            s=1000, \n",
    "            #facecolors='y', \n",
    "            #edgecolors='b'\n",
    "            )\n",
    "\n",
    "ax.text(0.93,\n",
    "        weighted_pde_df['test_weighted_pde'].loc[weighted_pde_df['model']=='Global Model']+0.001, \n",
    "       '{:.2%}'.format(max(weighted_pde_df['test_weighted_pde'].loc[weighted_pde_df['model']=='Global Model'])),\n",
    "        verticalalignment='center',\n",
    "        fontdict=(dict(fontsize=14))\n",
    "        )\n",
    "\n",
    "ax.text(1.93,\n",
    "        weighted_pde_df['test_weighted_pde'].loc[weighted_pde_df['model']=='Federated Model']+0.001, \n",
    "       '{:.2%}'.format(max(weighted_pde_df['test_weighted_pde'].loc[weighted_pde_df['model']=='Federated Model'])),\n",
    "        verticalalignment='center',\n",
    "        fontdict=(dict(fontsize=14))\n",
    "        )\n",
    "\n",
    "ax.text(2.93,\n",
    "        weighted_pde_df_box_plot['Local Agents'].median()+0.001, \n",
    "       '{:.2%}'.format(weighted_pde_df_box_plot['Local Agents'].median()),\n",
    "        verticalalignment='center',\n",
    "        fontdict=(dict(fontsize=14))\n",
    "        )\n",
    "\n",
    "plt.show()\n"
   ]
  },
  {
   "cell_type": "code",
   "execution_count": null,
   "metadata": {},
   "outputs": [],
   "source": [
    "fig, ax = plt.subplots(figsize=(12,10))\n",
    "\n",
    "sns.set_style('white')\n",
    "\n",
    "ax=sns.barplot(x='model', \n",
    "               y='fl_relative_increase',\n",
    "               data=weighted_pde_df[~weighted_pde_df.agent.isin([-1, -2])],\n",
    "               #orient='h',\n",
    "               color='blue',\n",
    "               )\n",
    "plt.title('Relative Increase in Model Performance', fontsize=25)\n",
    "\n",
    "plt.xticks(fontsize=10)\n",
    "plt.yticks(fontsize=10)\n",
    "plt.ylabel('Increase in % of Poisson Deviance Explained', fontsize=10)\n",
    "plt.xlabel('Agent', fontsize=10)\n",
    "ax.yaxis.set_major_formatter(mtick.PercentFormatter(1))\n",
    "ax.grid(True)\n",
    "plt.show()"
   ]
  }
 ],
 "metadata": {
  "kernelspec": {
   "display_name": "flower",
   "language": "python",
   "name": "python3"
  },
  "language_info": {
   "codemirror_mode": {
    "name": "ipython",
    "version": 3
   },
   "file_extension": ".py",
   "mimetype": "text/x-python",
   "name": "python",
   "nbconvert_exporter": "python",
   "pygments_lexer": "ipython3",
   "version": "3.8.16"
  },
  "orig_nbformat": 2,
  "vscode": {
   "interpreter": {
    "hash": "b92b3fc48a89de97f30d5b4e3a2ff9f8a6e9d88f3c1e31111b989caeaee3ceca"
   }
  }
 },
 "nbformat": 4,
 "nbformat_minor": 2
}
