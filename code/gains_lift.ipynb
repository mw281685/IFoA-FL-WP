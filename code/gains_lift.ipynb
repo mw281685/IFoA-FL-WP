{
 "cells": [
  {
   "cell_type": "markdown",
   "metadata": {},
   "source": [
    "# Import Libaries"
   ]
  },
  {
   "cell_type": "code",
   "execution_count": 1,
   "metadata": {},
   "outputs": [
    {
     "name": "stderr",
     "output_type": "stream",
     "text": [
      "c:\\Users\\dylan\\anaconda3\\envs\\flower\\lib\\site-packages\\tqdm\\auto.py:22: TqdmWarning: IProgress not found. Please update jupyter and ipywidgets. See https://ipywidgets.readthedocs.io/en/stable/user_install.html\n",
      "  from .autonotebook import tqdm as notebook_tqdm\n"
     ]
    }
   ],
   "source": [
    "from sklearn.metrics import auc, mean_squared_error, r2_score, mean_poisson_deviance\n",
    "from scipy import stats\n",
    "import numpy as np\n",
    "import matplotlib.pyplot as plt\n",
    "import pandas as pd\n",
    "from torch import nn, optim\n",
    "from torch.utils.data import TensorDataset, DataLoader\n",
    "import utils\n",
    "import torch\n",
    "import architecture as archit"
   ]
  },
  {
   "cell_type": "markdown",
   "metadata": {},
   "source": [
    "# Read in data"
   ]
  },
  {
   "cell_type": "code",
   "execution_count": 2,
   "metadata": {},
   "outputs": [],
   "source": [
    "def load_individual_data(agent_id):\n",
    "      MY_DATA_PATH = '../data'\n",
    "      X_train_sc = pd.read_csv(MY_DATA_PATH + '/X_train_' + str(agent_id) + '.csv')\n",
    "      X_column_names = X_train_sc.columns.tolist()\n",
    "\n",
    "      y_tr = pd.read_csv(MY_DATA_PATH + '/y_tr_' + str(agent_id) +  '.csv')\n",
    "\n",
    "      X_val_sc = pd.read_csv(MY_DATA_PATH + '/X_val_' + str(agent_id) + '.csv')\n",
    "      y_vl = pd.read_csv(MY_DATA_PATH + '/y_vl_' + str(agent_id) + '.csv')\n",
    "\n",
    "      X_test_sc = pd.read_csv(MY_DATA_PATH + '/X_test.csv')\n",
    "      y_te = pd.read_csv(MY_DATA_PATH + '/y_test.csv')\n",
    "\n",
    "      # Created tensordataset\n",
    "      train_dataset = torch.utils.data.TensorDataset(\n",
    "            torch.tensor(X_train_sc.values).float(), torch.tensor(y_tr.values).float())\n",
    "      val_dataset = torch.utils.data.TensorDataset(\n",
    "            torch.tensor(X_val_sc.values).float(), torch.tensor(y_vl.values).float())\n",
    "      test_dataset = torch.utils.data.TensorDataset(\n",
    "            torch.tensor(X_test_sc.values).float(), torch.tensor(y_te.values).float())\n",
    "      \n",
    "      return (train_dataset, val_dataset, test_dataset, X_train_sc, y_tr, X_val_sc, y_vl, X_test_sc, y_te)"
   ]
  },
  {
   "cell_type": "code",
   "execution_count": 3,
   "metadata": {},
   "outputs": [],
   "source": [
    "train_dataset, val_dataset, test_dataset, X_train_sc, y_tr, X_val_sc, y_vl, X_test_sc, y_te = load_individual_data(1) "
   ]
  },
  {
   "cell_type": "markdown",
   "metadata": {},
   "source": [
    "# Read in models"
   ]
  },
  {
   "cell_type": "code",
   "execution_count": 4,
   "metadata": {},
   "outputs": [],
   "source": [
    "NUM_FEATURES = 39"
   ]
  },
  {
   "cell_type": "code",
   "execution_count": 5,
   "metadata": {},
   "outputs": [
    {
     "data": {
      "text/plain": [
       "NeuralNetworks(\n",
       "  (hid1): Linear(in_features=39, out_features=5, bias=True)\n",
       "  (hid2): Linear(in_features=5, out_features=10, bias=True)\n",
       "  (hid3): Linear(in_features=10, out_features=15, bias=True)\n",
       "  (drop): Dropout(p=0.12409392594394411, inplace=False)\n",
       "  (output): Linear(in_features=15, out_features=1, bias=True)\n",
       ")"
      ]
     },
     "execution_count": 5,
     "metadata": {},
     "output_type": "execute_result"
    }
   ],
   "source": [
    "# Federated Model\n",
    "fl_model = archit.NeuralNetworks(NUM_FEATURES)\n",
    "\n",
    "model_name = 'fl_model.pt'\n",
    "AGENT_PATH = '../ag_1/' + model_name \n",
    "\n",
    "fl_model.load_state_dict(torch.load(AGENT_PATH))\n",
    "fl_model.eval()"
   ]
  },
  {
   "cell_type": "code",
   "execution_count": 6,
   "metadata": {},
   "outputs": [
    {
     "data": {
      "text/plain": [
       "NeuralNetworks(\n",
       "  (hid1): Linear(in_features=39, out_features=5, bias=True)\n",
       "  (hid2): Linear(in_features=5, out_features=10, bias=True)\n",
       "  (hid3): Linear(in_features=10, out_features=15, bias=True)\n",
       "  (drop): Dropout(p=0.12409392594394411, inplace=False)\n",
       "  (output): Linear(in_features=15, out_features=1, bias=True)\n",
       ")"
      ]
     },
     "execution_count": 6,
     "metadata": {},
     "output_type": "execute_result"
    }
   ],
   "source": [
    "# Local model\n",
    "local_model = archit.NeuralNetworks(NUM_FEATURES)\n",
    "\n",
    "model_name = 'local_model.pt'\n",
    "AGENT_PATH = '../ag_1/' + model_name \n",
    "\n",
    "local_model.load_state_dict(torch.load(AGENT_PATH))\n",
    "local_model.eval()"
   ]
  },
  {
   "cell_type": "markdown",
   "metadata": {},
   "source": [
    "# Lorenz Curves"
   ]
  },
  {
   "cell_type": "code",
   "execution_count": 7,
   "metadata": {},
   "outputs": [],
   "source": [
    "def lorenz_curve(y_true, y_pred, exposure):\n",
    "    y_true, y_pred = np.asarray(y_true), np.asarray(y_pred)\n",
    "    y_true = y_true.reshape((135603, ))\n",
    "    y_pred = y_pred.reshape((135603, ))\n",
    "    exposure = np.asarray(exposure)\n",
    "\n",
    "    # order samples by increasing predicted risk:\n",
    "    ranking = np.argsort(y_pred)\n",
    "    ranked_frequencies = y_true[ranking]\n",
    "    ranked_exposure = exposure[ranking]\n",
    "    cumulated_claims = np.cumsum(ranked_frequencies * ranked_exposure)\n",
    "    cumulated_claims /= cumulated_claims[-1]\n",
    "    cumulated_exposure = np.cumsum(ranked_exposure)\n",
    "    cumulated_exposure /= cumulated_exposure[-1]\n",
    "    \n",
    "    return cumulated_exposure, cumulated_claims"
   ]
  },
  {
   "cell_type": "code",
   "execution_count": 15,
   "metadata": {},
   "outputs": [
    {
     "name": "stdout",
     "output_type": "stream",
     "text": [
      "NeuralNetworks(\n",
      "  (hid1): Linear(in_features=39, out_features=5, bias=True)\n",
      "  (hid2): Linear(in_features=5, out_features=10, bias=True)\n",
      "  (hid3): Linear(in_features=10, out_features=15, bias=True)\n",
      "  (drop): Dropout(p=0.12409392594394411, inplace=False)\n",
      "  (output): Linear(in_features=15, out_features=1, bias=True)\n",
      ")\n",
      "NeuralNetworks(\n",
      "  (hid1): Linear(in_features=39, out_features=5, bias=True)\n",
      "  (hid2): Linear(in_features=5, out_features=10, bias=True)\n",
      "  (hid3): Linear(in_features=10, out_features=15, bias=True)\n",
      "  (drop): Dropout(p=0.12409392594394411, inplace=False)\n",
      "  (output): Linear(in_features=15, out_features=1, bias=True)\n",
      ")\n"
     ]
    }
   ],
   "source": [
    "for model in [fl_model, local_model]:\n",
    "    print(model)"
   ]
  },
  {
   "cell_type": "code",
   "execution_count": 16,
   "metadata": {},
   "outputs": [
    {
     "data": {
      "text/plain": [
       "<matplotlib.legend.Legend at 0x1b862b6bf10>"
      ]
     },
     "execution_count": 16,
     "metadata": {},
     "output_type": "execute_result"
    },
    {
     "data": {
      "image/png": "[encoded data removed]",
      "text/plain": [
       "<Figure size 576x576 with 1 Axes>"
      ]
     },
     "metadata": {
      "needs_background": "light"
     },
     "output_type": "display_data"
    }
   ],
   "source": [
    "fig, ax = plt.subplots(figsize=(8, 8))\n",
    "\n",
    "for model in [fl_model]:\n",
    "    log_y_pred = []\n",
    "    with torch.no_grad():\n",
    "        model.eval()\n",
    "        log_y_pred = model(torch.tensor(X_test_sc.values).float())\n",
    "    log_y_pred = [a.squeeze().tolist() for a in log_y_pred]\n",
    "    y_pred = np.exp(log_y_pred)\n",
    "    cum_exposure, cum_claims = lorenz_curve(\n",
    "        y_te, y_pred, X_test_sc[\"Exposure\"]\n",
    "    )\n",
    "    gini = 1 - 2 * auc(cum_exposure, cum_claims)\n",
    "    label = \"(Federated Gini: {:.2f})\".format(gini)\n",
    "    ax.plot(cum_exposure, cum_claims, linestyle=\"-\", label=label)\n",
    "\n",
    "for model in [local_model]:\n",
    "    log_y_pred = []\n",
    "    with torch.no_grad():\n",
    "        model.eval()\n",
    "        log_y_pred = model(torch.tensor(X_test_sc.values).float())\n",
    "    log_y_pred = [a.squeeze().tolist() for a in log_y_pred]\n",
    "    y_pred = np.exp(log_y_pred)\n",
    "    cum_exposure, cum_claims = lorenz_curve(\n",
    "        y_te, y_pred, X_test_sc[\"Exposure\"]\n",
    "    )\n",
    "    gini = 1 - 2 * auc(cum_exposure, cum_claims)\n",
    "    label = \"(Local Gini: {:.2f})\".format(gini)\n",
    "    ax.plot(cum_exposure, cum_claims, linestyle=\"-\", label=label)\n",
    "\n",
    "# Oracle model: y_pred == y_test\n",
    "cum_exposure, cum_claims = lorenz_curve(\n",
    "    y_te, y_te, X_test_sc[\"Exposure\"]\n",
    ")\n",
    "gini = 1 - 2 * auc(cum_exposure, cum_claims)\n",
    "label = \"Oracle (Gini: {:.2f})\".format(gini)\n",
    "ax.plot(cum_exposure, cum_claims, linestyle=\"-.\", color=\"gray\", label=label)\n",
    "\n",
    "# Random Baseline\n",
    "ax.plot([0, 1], [0, 1], linestyle=\"--\", color=\"black\", label=\"Random baseline\")\n",
    "ax.set(\n",
    "    title=\"Lorenz curves by model\",\n",
    "    xlabel=\"Cumulative proportion of exposure (from safest to riskiest)\",\n",
    "    ylabel=\"Cumulative proportion of claims\",\n",
    ")\n",
    "ax.legend(loc=\"upper left\")"
   ]
  },
  {
   "cell_type": "code",
   "execution_count": 9,
   "metadata": {},
   "outputs": [],
   "source": [
    "log_y_pred = []\n",
    "with torch.no_grad():\n",
    "    fl_model.eval()\n",
    "    log_y_pred = model(torch.tensor(X_test_sc.values).float())\n",
    "log_y_pred = [a.squeeze().tolist() for a in log_y_pred]\n",
    "y_pred = np.exp(log_y_pred)"
   ]
  },
  {
   "cell_type": "code",
   "execution_count": 10,
   "metadata": {},
   "outputs": [
    {
     "name": "stdout",
     "output_type": "stream",
     "text": [
      "Mean Poisson Deviance : 1.4490014745777813\n",
      "Mean Squared Error : 0.5607325874233147\n",
      "R^2 : -8.786215011577172\n",
      "DescribeResult(nobs=135603, minmax=(0.5495081373490128, 0.9060709314865566), mean=0.7578841133068054, variance=0.006368267656271424, skewness=-0.3793823658077448, kurtosis=-0.8308229514597345)\n"
     ]
    }
   ],
   "source": [
    "def test_statistics(y_test, y_pred_list_exp):\n",
    "    mpd = mean_poisson_deviance(y_test, y_pred_list_exp)\n",
    "    mse = mean_squared_error(y_test, y_pred_list_exp)\n",
    "    r_square = r2_score(y_test, y_pred_list_exp)\n",
    "    print(\"Mean Poisson Deviance :\",mpd)\n",
    "    print(\"Mean Squared Error :\",mse)\n",
    "    print(\"R^2 :\",r_square)\n",
    "    print(stats.describe(y_pred_list_exp))\n",
    "\n",
    "test_statistics(y_te, y_pred)    "
   ]
  },
  {
   "cell_type": "code",
   "execution_count": 11,
   "metadata": {},
   "outputs": [
    {
     "name": "stdout",
     "output_type": "stream",
     "text": [
      "DescribeResult(nobs=135603, minmax=(array([0.]), array([4.])), mean=array([0.05364188]), variance=array([0.05729863]), skewness=array([4.77277617]), kurtosis=array([25.86835613]))\n"
     ]
    }
   ],
   "source": [
    "print(stats.describe(y_te))"
   ]
  },
  {
   "cell_type": "code",
   "execution_count": null,
   "metadata": {},
   "outputs": [],
   "source": []
  }
 ],
 "metadata": {
  "kernelspec": {
   "display_name": "Python 3.8.11 ('flower')",
   "language": "python",
   "name": "python3"
  },
  "language_info": {
   "codemirror_mode": {
    "name": "ipython",
    "version": 3
   },
   "file_extension": ".py",
   "mimetype": "text/x-python",
   "name": "python",
   "nbconvert_exporter": "python",
   "pygments_lexer": "ipython3",
   "version": "3.8.11"
  },
  "orig_nbformat": 4,
  "vscode": {
   "interpreter": {
    "hash": "b92b3fc48a89de97f30d5b4e3a2ff9f8a6e9d88f3c1e31111b989caeaee3ceca"
   }
  }
 },
 "nbformat": 4,
 "nbformat_minor": 2
}
