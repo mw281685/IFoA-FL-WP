{
 "cells": [
  {
   "attachments": {},
   "cell_type": "markdown",
   "metadata": {},
   "source": [
    "# Import Libraries and Constants"
   ]
  },
  {
   "cell_type": "code",
   "execution_count": 5,
   "metadata": {},
   "outputs": [],
   "source": [
    "%matplotlib inline\n",
    "import torch as th\n",
    "#import torch.nn.functional as F\n",
    "import torch.nn as nn \n",
    "import pandas as pd\n",
    "import numpy as np\n",
    "from sklearn.metrics import mean_poisson_deviance, d2_tweedie_score\n",
    "import matplotlib.pyplot as plt\n",
    "import matplotlib.ticker as mtick\n",
    "import utils\n",
    "import architecture\n",
    "import run_config\n",
    "import csv\n",
    "from pandas._libs.lib import is_integer\n",
    "from numpy import genfromtxt\n",
    "from statistics import mean"
   ]
  },
  {
   "cell_type": "code",
   "execution_count": 6,
   "metadata": {},
   "outputs": [],
   "source": [
    "FL_NUM_UNITS_1 = 10"
   ]
  },
  {
   "cell_type": "code",
   "execution_count": 7,
   "metadata": {},
   "outputs": [],
   "source": [
    "FL_NUM_UNITS_2 = 15"
   ]
  },
  {
   "cell_type": "code",
   "execution_count": 8,
   "metadata": {},
   "outputs": [],
   "source": [
    "NUM_FEATURES = 39"
   ]
  },
  {
   "cell_type": "markdown",
   "metadata": {},
   "source": [
    "# Test FL Models Against Validation"
   ]
  },
  {
   "cell_type": "code",
   "execution_count": 9,
   "metadata": {},
   "outputs": [],
   "source": [
    "def create_val_data(agent): \n",
    "    \n",
    "        MY_DATA_PATH = '../data'\n",
    "\n",
    "        X_val_sc = genfromtxt(MY_DATA_PATH + '/X_val_'+str(agent)+'.csv', delimiter=',', skip_header=1)\n",
    "        y_val_sc = genfromtxt(MY_DATA_PATH + '/y_vl_'+str(agent)+'.csv', delimiter=',', skip_header=1)\n",
    "\n",
    "        return X_val_sc, y_val_sc"
   ]
  },
  {
   "cell_type": "code",
   "execution_count": 10,
   "metadata": {},
   "outputs": [],
   "source": [
    "def model_val_test(path):\n",
    "    \n",
    "    # Load Model\n",
    "    \n",
    "    FL_PATH_MODEL = path\n",
    "    fl_model = architecture.MultipleRegression(num_features=NUM_FEATURES, num_units_1=FL_NUM_UNITS_1, num_units_2=FL_NUM_UNITS_2)\n",
    "    fl_model.load_state_dict(th.load(FL_PATH_MODEL))\n",
    "    fl_model.eval()\n",
    "\n",
    "    # Test FL model against validation data\n",
    "    \n",
    "    val_perf_list = []\n",
    "    for agent in range(0,10):\n",
    "        X_val, y_val= create_val_data(agent)\n",
    "        y_fl_pred = fl_model.predict(th.tensor(X_val).float())\n",
    "        y_fl_pred = pd.Series(y_fl_pred.flatten().detach().numpy())\n",
    "        fl_weighted_pde = d2_tweedie_score(y_val, y_fl_pred, sample_weight=X_val[:, 0], power=1)\n",
    "        val_perf_list.append(fl_weighted_pde)\n",
    "\n",
    "    return mean(val_perf_list)"
   ]
  },
  {
   "cell_type": "markdown",
   "metadata": {},
   "source": [
    "# Graph Results"
   ]
  },
  {
   "cell_type": "code",
   "execution_count": 11,
   "metadata": {},
   "outputs": [],
   "source": [
    "# initialize list of lists\n",
    "data = [[25, model_val_test('../ag_-1/fl_model_500_batch_NAdam_UP_10ag_25rnd_5ep_0qt_1SMPCn.pt')], \n",
    "        [50, model_val_test('../ag_-1/fl_model_500_batch_NAdam_UP_10ag_50rnd_5ep_0qt_1SMPCn.pt')], \n",
    "        [75, model_val_test('../ag_-1/fl_model_500_batch_NAdam_UP_10ag_75rnd_5ep_0qt_1SMPCn.pt')], \n",
    "        [100, model_val_test('../ag_-1/fl_model_500_batch_NAdam_UP_10ag_100rnd_10ep_0qt_1SMPCn.pt')],\n",
    "        ]\n",
    " \n",
    "# Create the pandas DataFrame\n",
    "df_val_results = pd.DataFrame(data, columns=['Rounds', 'Validation Loss'])"
   ]
  },
  {
   "cell_type": "code",
   "execution_count": 12,
   "metadata": {},
   "outputs": [
    {
     "data": {
      "text/html": [
       "<div>\n",
       "<style scoped>\n",
       "    .dataframe tbody tr th:only-of-type {\n",
       "        vertical-align: middle;\n",
       "    }\n",
       "\n",
       "    .dataframe tbody tr th {\n",
       "        vertical-align: top;\n",
       "    }\n",
       "\n",
       "    .dataframe thead th {\n",
       "        text-align: right;\n",
       "    }\n",
       "</style>\n",
       "<table border=\"1\" class=\"dataframe\">\n",
       "  <thead>\n",
       "    <tr style=\"text-align: right;\">\n",
       "      <th></th>\n",
       "      <th>Rounds</th>\n",
       "      <th>Validation Loss</th>\n",
       "    </tr>\n",
       "  </thead>\n",
       "  <tbody>\n",
       "    <tr>\n",
       "      <th>0</th>\n",
       "      <td>25</td>\n",
       "      <td>0.038054</td>\n",
       "    </tr>\n",
       "    <tr>\n",
       "      <th>1</th>\n",
       "      <td>50</td>\n",
       "      <td>0.044089</td>\n",
       "    </tr>\n",
       "    <tr>\n",
       "      <th>2</th>\n",
       "      <td>75</td>\n",
       "      <td>0.045264</td>\n",
       "    </tr>\n",
       "    <tr>\n",
       "      <th>3</th>\n",
       "      <td>100</td>\n",
       "      <td>0.047942</td>\n",
       "    </tr>\n",
       "    <tr>\n",
       "      <th>4</th>\n",
       "      <td>125</td>\n",
       "      <td>0.044861</td>\n",
       "    </tr>\n",
       "  </tbody>\n",
       "</table>\n",
       "</div>"
      ],
      "text/plain": [
       "   Rounds  Validation Loss\n",
       "0      25         0.038054\n",
       "1      50         0.044089\n",
       "2      75         0.045264\n",
       "3     100         0.047942\n",
       "4     125         0.044861"
      ]
     },
     "execution_count": 12,
     "metadata": {},
     "output_type": "execute_result"
    }
   ],
   "source": [
    "df_val_results"
   ]
  },
  {
   "cell_type": "code",
   "execution_count": 13,
   "metadata": {},
   "outputs": [
    {
     "name": "stderr",
     "output_type": "stream",
     "text": [
      "C:\\Users\\dylan\\AppData\\Local\\Temp\\ipykernel_44124\\189600105.py:15: UserWarning: FixedFormatter should only be used together with FixedLocator\n",
      "  ax.set_yticklabels(['{:,.2%}'.format(x) for x in vals])\n"
     ]
    },
    {
     "data": {
      "image/png": "[encoded data removed]",
      "text/plain": [
       "<Figure size 864x576 with 1 Axes>"
      ]
     },
     "metadata": {
      "needs_background": "light"
     },
     "output_type": "display_data"
    }
   ],
   "source": [
    "fig, ax = plt.subplots(figsize=(12, 8))\n",
    "\n",
    "plt.plot(df_val_results['Rounds'],\n",
    "         df_val_results['Validation Loss'], \n",
    "         #linestyle = 'dotted',\n",
    "         marker='s',\n",
    "         markersize=10,\n",
    "         )\n",
    "\n",
    "plt.xlabel('Number of Federated Rounds', fontsize=15)\n",
    "plt.ylabel('Average Validation % PDE across 10 agents', fontsize=15)\n",
    "plt.title('Average Validation Loss Against Number of Rounds', fontsize=20)\n",
    "\n",
    "vals = ax.get_yticks()\n",
    "ax.set_yticklabels(['{:,.2%}'.format(x) for x in vals])\n",
    "\n",
    "plt.grid()"
   ]
  }
 ],
 "metadata": {
  "kernelspec": {
   "display_name": "flower",
   "language": "python",
   "name": "python3"
  },
  "language_info": {
   "codemirror_mode": {
    "name": "ipython",
    "version": 3
   },
   "file_extension": ".py",
   "mimetype": "text/x-python",
   "name": "python",
   "nbconvert_exporter": "python",
   "pygments_lexer": "ipython3",
   "version": "3.8.11"
  },
  "orig_nbformat": 2,
  "vscode": {
   "interpreter": {
    "hash": "b92b3fc48a89de97f30d5b4e3a2ff9f8a6e9d88f3c1e31111b989caeaee3ceca"
   }
  }
 },
 "nbformat": 4,
 "nbformat_minor": 2
}
